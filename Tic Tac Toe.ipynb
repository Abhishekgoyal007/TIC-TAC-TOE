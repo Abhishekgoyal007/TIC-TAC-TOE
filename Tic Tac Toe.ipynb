{
 "cells": [
  {
   "cell_type": "code",
   "execution_count": 1,
   "id": "7c951c80",
   "metadata": {},
   "outputs": [],
   "source": [
    "# Here is the Tic Tac Toe game in the python "
   ]
  },
  {
   "cell_type": "code",
   "execution_count": 92,
   "id": "02a99f16",
   "metadata": {},
   "outputs": [],
   "source": [
    "from IPython.display import clear_output\n",
    "def display_board(board):\n",
    "    clear_output()\n",
    "#     print(board[7]+\"|\"+board[8]+\"|\"+board[9])\n",
    "#     print(board[4]+\"|\"+board[5]+\"|\"+board[6])    \n",
    "#     print(board[1]+\"|\"+board[2]+\"|\"+board[3])    \n",
    "    print('   |   |')\n",
    "    print(' ' + board[7] + ' | ' + board[8] + ' | ' + board[9])\n",
    "    print('   |   |')\n",
    "    print('-----------')\n",
    "    print('   |   |')\n",
    "    print(' ' + board[4] + ' | ' + board[5] + ' | ' + board[6])\n",
    "    print('   |   |')\n",
    "    print('-----------')\n",
    "    print('   |   |')\n",
    "    print(' ' + board[1] + ' | ' + board[2] + ' | ' + board[3])\n",
    "    print('   |   |')"
   ]
  },
  {
   "cell_type": "code",
   "execution_count": 93,
   "id": "4a74b9b4",
   "metadata": {},
   "outputs": [],
   "source": [
    "board = ['X','X','O','O','X','O','O','X','X','O']"
   ]
  },
  {
   "cell_type": "code",
   "execution_count": 94,
   "id": "6b65356c",
   "metadata": {},
   "outputs": [],
   "source": [
    "def player_input():\n",
    "    marker = ''\n",
    "    while marker!='X' and marker!='Y':\n",
    "        marker = input(\"Player 1: choose X or Y: \").upper()\n",
    "    if marker == 'X':\n",
    "        return ('X','O')\n",
    "    else:\n",
    "        return ('O','X')"
   ]
  },
  {
   "cell_type": "code",
   "execution_count": 95,
   "id": "09615964",
   "metadata": {},
   "outputs": [
    {
     "name": "stdout",
     "output_type": "stream",
     "text": [
      "Player 1: choose X or Y: \n",
      "Player 1: choose X or Y: \n",
      "Player 1: choose X or Y: x\n"
     ]
    }
   ],
   "source": [
    "player1_marker, player2_marker = player_input()  "
   ]
  },
  {
   "cell_type": "code",
   "execution_count": 96,
   "id": "2ebbcc24",
   "metadata": {},
   "outputs": [
    {
     "data": {
      "text/plain": [
       "'O'"
      ]
     },
     "execution_count": 96,
     "metadata": {},
     "output_type": "execute_result"
    }
   ],
   "source": [
    "player2_marker"
   ]
  },
  {
   "cell_type": "code",
   "execution_count": 97,
   "id": "634821ca",
   "metadata": {},
   "outputs": [
    {
     "data": {
      "text/plain": [
       "['X', 'X', 'O', 'O', 'X', 'O', 'O', 'X', 'X', 'O']"
      ]
     },
     "execution_count": 97,
     "metadata": {},
     "output_type": "execute_result"
    }
   ],
   "source": [
    "board"
   ]
  },
  {
   "cell_type": "code",
   "execution_count": 114,
   "id": "033693fb",
   "metadata": {},
   "outputs": [],
   "source": [
    "def place_marker(board, marker, position):\n",
    "    board[position] = marker"
   ]
  },
  {
   "cell_type": "code",
   "execution_count": 127,
   "id": "0ecb0415",
   "metadata": {},
   "outputs": [
    {
     "name": "stdout",
     "output_type": "stream",
     "text": [
      "   |   |\n",
      " X | X | 9\n",
      "   |   |\n",
      "-----------\n",
      "   |   |\n",
      " X | O | O\n",
      "   |   |\n",
      "-----------\n",
      "   |   |\n",
      " X | O | O\n",
      "   |   |\n"
     ]
    }
   ],
   "source": [
    "place_marker(board,'9',9)\n",
    "display_board(board)"
   ]
  },
  {
   "cell_type": "code",
   "execution_count": 128,
   "id": "67310182",
   "metadata": {},
   "outputs": [],
   "source": [
    "def win_check(board, mark):\n",
    "    '''# WIN TIC TAC TOE\n",
    "       # ALL ROWS AND CHECK IF THEY ALL SHARE THE SAME MARKER?\n",
    "       # ALL COLUMN, CHECK TO SEE IF MARKER MATCHES \n",
    "       # 2 DIAGONALS, CHECK TO SEE MATCH''' \n",
    "    return ((board[7]==board[8]==board[9]==mark)or\n",
    "            (board[4]==board[5]==board[6]==mark)or\n",
    "            (board[1]==board[2]==board[3]==mark)or\n",
    "            (board[7]==board[4]==board[1]==mark)or\n",
    "            (board[8]==board[5]==board[2]==mark)or\n",
    "            (board[9]==board[6]==board[3]==mark)or\n",
    "            (board[1]==board[5]==board[9]==mark)or\n",
    "            (board[3]==board[5]==board[7]==mark))"
   ]
  },
  {
   "cell_type": "code",
   "execution_count": 129,
   "id": "d48cfa20",
   "metadata": {},
   "outputs": [
    {
     "data": {
      "text/plain": [
       "['X', 'X', 'O', 'O', 'X', 'O', 'O', 'X', 'X', '9']"
      ]
     },
     "execution_count": 129,
     "metadata": {},
     "output_type": "execute_result"
    }
   ],
   "source": [
    "board"
   ]
  },
  {
   "cell_type": "code",
   "execution_count": 130,
   "id": "9353bbe3",
   "metadata": {},
   "outputs": [
    {
     "name": "stdout",
     "output_type": "stream",
     "text": [
      "   |   |\n",
      " X | X | 9\n",
      "   |   |\n",
      "-----------\n",
      "   |   |\n",
      " X | O | O\n",
      "   |   |\n",
      "-----------\n",
      "   |   |\n",
      " X | O | O\n",
      "   |   |\n"
     ]
    },
    {
     "data": {
      "text/plain": [
       "True"
      ]
     },
     "execution_count": 130,
     "metadata": {},
     "output_type": "execute_result"
    }
   ],
   "source": [
    "display_board(board)\n",
    "win_check(board,'X')"
   ]
  },
  {
   "cell_type": "code",
   "execution_count": 131,
   "id": "ef097492",
   "metadata": {},
   "outputs": [],
   "source": [
    "import random\n",
    "def choose_first():\n",
    "    flip = random.randint(0,1)\n",
    "    if flip == 0:\n",
    "        return 'Player 1'\n",
    "    else:\n",
    "        return 'Player 2'"
   ]
  },
  {
   "cell_type": "code",
   "execution_count": 132,
   "id": "7807fb48",
   "metadata": {},
   "outputs": [],
   "source": [
    "def space_check(board, position):\n",
    "    \n",
    "    return board[position] == ' '"
   ]
  },
  {
   "cell_type": "code",
   "execution_count": 133,
   "id": "e418614e",
   "metadata": {},
   "outputs": [],
   "source": [
    "def full_board_check(board):\n",
    "    for i in range(1,10):\n",
    "        if space_check(board,i):\n",
    "            return False\n",
    "    return True"
   ]
  },
  {
   "cell_type": "code",
   "execution_count": 134,
   "id": "b9adee5e",
   "metadata": {},
   "outputs": [],
   "source": [
    "def player_choice(board):\n",
    "    \n",
    "    position = 0\n",
    "    \n",
    "    while position not in [1,2,3,4,5,6,7,8,9] or not space_check(board, position):\n",
    "        position = int(input('Choose a position:(1-9)'))\n",
    "    return int(position)"
   ]
  },
  {
   "cell_type": "code",
   "execution_count": 135,
   "id": "36be4bd5",
   "metadata": {},
   "outputs": [],
   "source": [
    "def replay():\n",
    "    choice = input('Play again: Yes or No: ')\n",
    "    return choice == 'Yes'"
   ]
  },
  {
   "cell_type": "code",
   "execution_count": 137,
   "id": "ef8abe41",
   "metadata": {},
   "outputs": [
    {
     "name": "stdout",
     "output_type": "stream",
     "text": [
      "   |   |\n",
      " X | O | O\n",
      "   |   |\n",
      "-----------\n",
      "   |   |\n",
      " O | X | X\n",
      "   |   |\n",
      "-----------\n",
      "   |   |\n",
      " X | X | O\n",
      "   |   |\n",
      "TIE GAME!\n",
      "Play again: Yes or No: Yes\n",
      "Player 1: choose X or Y: x\n",
      "Player 1 will go first\n",
      "Ready to play? y or n ?: n\n",
      "Play again: Yes or No: no\n"
     ]
    }
   ],
   "source": [
    "# WHILE LOOP TO KEEP RUNNING THE GAME\n",
    "\n",
    "print('Welcome to TIC TAC TOE')\n",
    "\n",
    "while True:\n",
    "        \n",
    "        #PLAY THE GAME\n",
    "        \n",
    "        ##SET EVERYTHING UP (BOARD, WHOS FIRST, CHOOSE MARKERS X,O)\n",
    "        the_board = [' ']*10\n",
    "        player1_marker, player2_marker = player_input()  \n",
    "        turn = choose_first()\n",
    "        print(turn + ' will go first')\n",
    "        play_game = input('Ready to play? y or n ?: ')\n",
    "        if play_game == 'y':\n",
    "            game_on = True\n",
    "        else:\n",
    "            game_on = False\n",
    "            \n",
    "        ## GAME PLAY\n",
    "        while game_on:\n",
    "            \n",
    "            if turn == 'Player 1':\n",
    "                #SHOW THE BOARD\n",
    "                display_board(the_board)\n",
    "                #CHOOSE A POSITION\n",
    "                position = player_choice(the_board)\n",
    "                #PLACE THE MARKER ON THE POSITION\n",
    "                place_marker(the_board, player1_marker, position)\n",
    "                \n",
    "                #CHECK IF THEY WON\n",
    "                if win_check(the_board,player1_marker):\n",
    "                    display_board(the_board)\n",
    "                    print(\"Yayy! Player 1 had won the game!\")\n",
    "                    game_on = False\n",
    "                    #OR CHECK IF THERE IS A TIE \n",
    "                else:\n",
    "                    if full_board_check(the_board):\n",
    "                        display_board(the_board)\n",
    "                        print(\"TIE GAME!\")\n",
    "                        game_on = False\n",
    "                    else:\n",
    "                        turn = 'Player 2'\n",
    "\n",
    "            else:\n",
    "                ## PLAYER TWO TURN\n",
    "                #SHOW THE BOARD\n",
    "                display_board(the_board)\n",
    "                #CHOOSE A POSITION\n",
    "                position = player_choice(the_board)\n",
    "                #PLACE THE MARKER ON THE POSITION\n",
    "                place_marker(the_board, player2_marker, position)\n",
    "                \n",
    "                #CHECK IF THEY WON\n",
    "                if win_check(the_board,player2_marker):\n",
    "                    display_board(the_board)\n",
    "                    print(\"Yayy! Player 2 had won the game!\")\n",
    "                    game_on = False\n",
    "                    #OR CHECK IF THERE IS A TIE \n",
    "                else:\n",
    "                    if full_board_check(the_board):\n",
    "                        display_board(the_board)\n",
    "                        print(\"TIE GAME!\")\n",
    "                        game_on = False\n",
    "                    else:\n",
    "                        turn = 'Player 1'\n",
    "        if not replay():\n",
    "            break\n",
    "# BREAK OUT OF THE WHILE LOOP ON replay() "
   ]
  },
  {
   "cell_type": "code",
   "execution_count": null,
   "id": "3e9ef9e3",
   "metadata": {},
   "outputs": [],
   "source": []
  },
  {
   "cell_type": "code",
   "execution_count": null,
   "id": "05d636e6",
   "metadata": {},
   "outputs": [],
   "source": []
  }
 ],
 "metadata": {
  "kernelspec": {
   "display_name": "Python 3 (ipykernel)",
   "language": "python",
   "name": "python3"
  },
  "language_info": {
   "codemirror_mode": {
    "name": "ipython",
    "version": 3
   },
   "file_extension": ".py",
   "mimetype": "text/x-python",
   "name": "python",
   "nbconvert_exporter": "python",
   "pygments_lexer": "ipython3",
   "version": "3.11.5"
  }
 },
 "nbformat": 4,
 "nbformat_minor": 5
}
